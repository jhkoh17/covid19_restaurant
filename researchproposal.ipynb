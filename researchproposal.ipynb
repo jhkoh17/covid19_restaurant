{
 "cells": [
  {
   "cell_type": "markdown",
   "metadata": {},
   "source": [
    "Research Project \n",
    "# Demand and Supply Stimulus During COVID19: A Study of The Restaurant Industry in S. Korea\n",
    "\n",
    "## 1. Introduction \n",
    "During the pandemic period of COVID19, S.Korean government has provided various stimulus packages, such as \"신종 코로나바이러스 관련 소상공인 지원\"  for small business owners, simular to \"Paycheck Protection Program (PPP)\" or \"Economic Injury Disaster Loan (EIDL) program\" in the US. In addition, S. Korean government has provided one-time cash payment for all householders, called \"긴급재난지원금\", similar to one-time cash payment under \"the Coronavirus Aid, Relief, and Economic Security Act (CARES)\". Both types of the stimulus packages could help owners of local restaurants to provides funds for the owners themseleves for their businesses(cost sides) and to promote consumers to use these restaurants (demand sides). \n",
    "\n",
    "This project aims to examine how these two different stimulus packages help restaurant owners in Seoul, Korea. Using data bases of the city government of Seoul, this paper examines how these stimulus packages affect the owners' decision to stay in the market. The main estimation will be done by using \"reduced form analysis\" and \"entry/exit\" model. \n",
    "\n",
    "## 2. Stimulus Packages in S. Korea\n",
    "### For Small Business Owners\n",
    "All packages are provided as a form of loans. Various loan programs are available for business owners. \n",
    "\n",
    "* Need a table including a various loan\n",
    "\n",
    "- Time\n",
    "    - First Round: Febuary 13, 2020 to May 18, 2020\n",
    "    - Second Round: May 19, 2020 ~\n",
    "\n",
    "\n",
    "### For Householders\n",
    "Simiilar to the one-time cash payment under the CARES in the U.S, S. Korean government provides 200,000 Won (equivalent to $210 U.S Dollar) per indiviual. There are restrictions where consumers cannot use this fund: \n",
    "- Department stores \n",
    "- Major chain gerogeries \n",
    "- Duty free shops.\n",
    "\n",
    "Time\n",
    "- Time: July 5 ~ August, 31, 2020 \n",
    "- All funds should be used by August 31, 2020.\n",
    "\n",
    "\n",
    "\n"
   ]
  },
  {
   "cell_type": "markdown",
   "metadata": {},
   "source": [
    "## 3. Data\n",
    "The primary data set of this project is \"Local Business Data\" (\"우리마을가게\") from the Seoul Metropolitan Government (SMG)."
   ]
  },
  {
   "cell_type": "code",
   "execution_count": null,
   "metadata": {},
   "outputs": [],
   "source": []
  },
  {
   "cell_type": "markdown",
   "metadata": {},
   "source": [
    "\n",
    "## 4. Estimation Strategy\n"
   ]
  }
 ],
 "metadata": {
  "kernelspec": {
   "display_name": "Python 3",
   "language": "python",
   "name": "python3"
  },
  "language_info": {
   "codemirror_mode": {
    "name": "ipython",
    "version": 3
   },
   "file_extension": ".py",
   "mimetype": "text/x-python",
   "name": "python",
   "nbconvert_exporter": "python",
   "pygments_lexer": "ipython3",
   "version": "3.8.5"
  }
 },
 "nbformat": 4,
 "nbformat_minor": 4
}
